{
 "cells": [
  {
   "cell_type": "code",
   "execution_count": null,
   "metadata": {},
   "outputs": [],
   "source": [
    "import os\n",
    "import sys\n",
    "import matplotlib\n",
    "import matplotlib.pyplot as plt\n",
    "import matplotlib.gridspec as gridspec\n",
    "%matplotlib inline\n",
    "#sys.path.insert(1, r'C:\\Users\\smartin5\\Repos\\myNeurochat')\n",
    "sys.path.insert(1, r'C:\\Users\\maolivei\\neuro_sean\\NeuroChaT')\n",
    "%load_ext autoreload\n",
    "%autoreload 2"
   ]
  },
  {
   "cell_type": "code",
   "execution_count": null,
   "metadata": {},
   "outputs": [],
   "source": [
    "from neurochat.nc_data import NData\n",
    "from neurochat.nc_spike import NSpike\n",
    "from neurochat.nc_spatial import NSpatial\n",
    "import neurochat.nc_plot as nc_plot"
   ]
  },
  {
   "cell_type": "code",
   "execution_count": null,
   "metadata": {},
   "outputs": [],
   "source": [
    "spike = NSpike(system=\"Axona\")\n",
    "spike.set_name(\"CO\")\n",
    "spat = NSpatial(system=\"Axona\")\n",
    "spat.set_name(\"S0\")\n",
    "\n",
    "data_dir = r\"C:\\Users\\maolivei\\Documents\\post_doc\\data\\LCA1\"\n",
    "spike_name = \"040319C_LCA1_open-arena_15min.2\"\n",
    "pos_name = \"040319C_LCA1_open-arena_15min_1.txt\"\n",
    "spike.set_filename(os.path.join(data_dir, spike_name))\n",
    "spat.set_filename(os.path.join(data_dir, pos_name))"
   ]
  },
  {
   "cell_type": "code",
   "execution_count": null,
   "metadata": {},
   "outputs": [],
   "source": [
    "spike.load()\n",
    "spat.load()\n",
    "spike.set_unit_no(3)\n",
    "\n",
    "ndata = NData()\n",
    "ndata.spike = spike\n",
    "ndata.spatial = spat"
   ]
  },
  {
   "cell_type": "code",
   "execution_count": null,
   "metadata": {
    "scrolled": true
   },
   "outputs": [],
   "source": [
    "# Calculate place related statistics\n",
    "pixel_size = 3\n",
    "placeData = ndata.place(pixel=pixel_size, filter=[None, 3], range=[0, spat.get_duration()], chop_bound=0, fieldThresh=0.2, minPlaceFieldNeighbours=0, smoothPlace=False)\n",
    "fig = nc_plot.loc_firing_and_place(placeData)\n",
    "\n",
    "# Comparing different methods of obtaining the place field centroid\n",
    "fig = nc_plot.loc_place_centroid(placeData, placeData['centroid'])\n",
    "fig = nc_plot.loc_place_centroid(placeData, ndata.place_field_centroid_zscore(update=False, z_threshold=1))"
   ]
  },
  {
   "cell_type": "code",
   "execution_count": null,
   "metadata": {},
   "outputs": [],
   "source": [
    "# Test the angle calculation\n",
    "import numpy as np\n",
    "from neurochat.nc_utils import angle_between_points\n",
    "a = np.array([1, 1.001])\n",
    "b = np.array([1, 1])\n",
    "c = np.array([1, 0])\n",
    "print(angle_between_points(a, b, c))"
   ]
  },
  {
   "cell_type": "code",
   "execution_count": null,
   "metadata": {},
   "outputs": [],
   "source": [
    "print(ndata._results)"
   ]
  },
  {
   "cell_type": "code",
   "execution_count": null,
   "metadata": {},
   "outputs": [],
   "source": [
    "def add_axes_to_fig(axes, new_axes, fig):\n",
    "    for ax, new_ax in zip(axes, new_axes):\n",
    "        ax.remove()\n",
    "        ax.figure = fig\n",
    "        fig.add_axes(ax)\n",
    "        ax.set_position(new_ax.get_position())\n",
    "        new_ax.remove()"
   ]
  },
  {
   "cell_type": "code",
   "execution_count": null,
   "metadata": {},
   "outputs": [],
   "source": [
    "# Creates a grid of rows * cols figures, with the last column subdivided into a grid of four\n",
    "def create_grid(rows, cols=3, size_multiplier=4, wspace=0.5, hspace=0.5):\n",
    "    fig = plt.figure(\n",
    "        figsize=(cols * size_multiplier, rows * size_multiplier), \n",
    "        tight_layout=True)\n",
    "    gs = gridspec.GridSpec(2 * rows, 2 * cols, wspace=wspace, hspace=hspace)\n",
    "    for i in range(rows):\n",
    "        for j in range(cols-1):\n",
    "            # Can also access the axes for plotting by calling fig.axes\n",
    "            ax = fig.add_subplot(gs[2*i:2*(i+1), 2*j:2*(j+1)])\n",
    "            \n",
    "            #ax.plot(range(10))\n",
    "        # Add a sub-four\n",
    "        ax1 = fig.add_subplot(gs[2*i, 2*(cols-1)])\n",
    "        ax1.plot(range(20))\n",
    "        ax2 = fig.add_subplot(gs[2*i, 2*cols - 1])\n",
    "        ax3 = fig.add_subplot(gs[2*i+1, 2*(cols-1)])\n",
    "        ax4 = fig.add_subplot(gs[2*i+1, 2*cols - 1])\n",
    "    return fig"
   ]
  },
  {
   "cell_type": "code",
   "execution_count": null,
   "metadata": {},
   "outputs": [],
   "source": [
    "figure = create_grid(5, 5)"
   ]
  },
  {
   "cell_type": "code",
   "execution_count": null,
   "metadata": {},
   "outputs": [],
   "source": [
    "# Option number 1 to reuse figures\n",
    "import matplotlib.gridspec as gridspec\n",
    "\n",
    "wave_fig = nc_plot.wave_property(ndata.wave_property())\n",
    "isi_fig = nc_plot.isi(ndata.isi())\n",
    "size = (5, 4)\n",
    "\n",
    "gs = gridspec.GridSpec(*size, wspace=1, hspace=1)\n",
    "fig1 = plt.figure(figsize=(16, 16))\n",
    "\n",
    "wave_ax1 = fig1.add_subplot(gs[0, 0])\n",
    "wave_ax2 = fig1.add_subplot(gs[0, 1])\n",
    "wave_ax3 = fig1.add_subplot(gs[1, 0])\n",
    "wave_ax4 = fig1.add_subplot(gs[1, 1])\n",
    "wave_axes = [wave_ax1, wave_ax2, wave_ax3, wave_ax4]\n",
    "\n",
    "add_axes_to_fig(wave_fig.axes, wave_axes, fig1)\n",
    "plt.close(wave_fig)\n",
    "\n",
    "isi_ax1 = fig1.add_subplot(gs[0:2, 2:])\n",
    "isi_ax2 = fig1.add_subplot(gs[3:, 0:2])\n",
    "isi_ax3 = fig1.add_subplot(gs[3:, 2:])\n",
    "isi_axes = [isi_ax1, isi_ax2, isi_ax3]\n",
    "\n",
    "isi_fig_axes = [figure.axes[0] for figure in isi_fig]\n",
    "add_axes_to_fig(isi_fig_axes, isi_axes, fig1)"
   ]
  },
  {
   "cell_type": "code",
   "execution_count": null,
   "metadata": {},
   "outputs": [],
   "source": [
    "# Option 2 to reuse figures\n",
    "import matplotlib.pyplot as plt\n",
    "from svgutils.compose import Figure\n",
    "wave_fig = nc_plot.wave_property(ndata.wave_property())\n",
    "plt.savefig(\"wave.svg\")\n",
    "isi_fig = nc_plot.isi(ndata.isi())\n",
    "plt.savefig(\"isi.svg\")\n",
    "#Make a composed Figure"
   ]
  }
 ],
 "metadata": {
  "kernelspec": {
   "display_name": "Python 3",
   "language": "python",
   "name": "python3"
  },
  "language_info": {
   "codemirror_mode": {
    "name": "ipython",
    "version": 3
   },
   "file_extension": ".py",
   "mimetype": "text/x-python",
   "name": "python",
   "nbconvert_exporter": "python",
   "pygments_lexer": "ipython3",
   "version": "3.7.2"
  }
 },
 "nbformat": 4,
 "nbformat_minor": 2
}
