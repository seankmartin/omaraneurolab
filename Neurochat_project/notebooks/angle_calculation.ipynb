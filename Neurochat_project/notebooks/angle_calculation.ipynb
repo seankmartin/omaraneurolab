{
 "cells": [
  {
   "cell_type": "code",
   "execution_count": null,
   "metadata": {},
   "outputs": [],
   "source": [
    "import os\n",
    "import sys\n",
    "%matplotlib inline\n",
    "sys.path.insert(1, r'C:\\Users\\smartin5\\Repos\\myNeurochat')\n",
    "%load_ext autoreload\n",
    "%autoreload 2"
   ]
  },
  {
   "cell_type": "code",
   "execution_count": null,
   "metadata": {},
   "outputs": [],
   "source": [
    "from neurochat.nc_control import NeuroChaT"
   ]
  },
  {
   "cell_type": "code",
   "execution_count": null,
   "metadata": {},
   "outputs": [],
   "source": [
    "main_dir = \"C:\\\\Users\\\\smartin5\\\\Neuroscience\\\\Neurochat_egs\"\n",
    "file_name = \"angle_merged_calculation.xlsx\"\n",
    "excel_file_path = os.path.join(main_dir, file_name)\n",
    "neuro_control = NeuroChaT()\n",
    "# print(neuro_control.ndata.spat.time)\n",
    "pdf_name = os.path.join(main_dir, file_name[:5] + \"output\" + \".pdf\")\n",
    "neuro_control.open_pdf(pdf_name)\n",
    "neuro_control.angle_calculation(excel_file_path)\n",
    "neuro_control.close_pdf()"
   ]
  },
  {
   "cell_type": "code",
   "execution_count": null,
   "metadata": {},
   "outputs": [],
   "source": [
    "from neurochat.nc_datacontainer import NDataContainer\n",
    "import neurochat.nc_plot as nc_plot"
   ]
  },
  {
   "cell_type": "code",
   "execution_count": null,
   "metadata": {},
   "outputs": [],
   "source": [
    "home = os.path.expanduser(\"~\")\n",
    "data_dir = os.path.join(\n",
    "    home, \"Recordings\", \"ER\", \"cla-r-01042019\")\n",
    "prepend_data_dir = lambda name : os.path.join(data_dir, name)"
   ]
  },
  {
   "cell_type": "code",
   "execution_count": null,
   "metadata": {},
   "outputs": [],
   "source": [
    "# Setup the locations of interest\n",
    "spike_filenames = [\n",
    "    \"cla-r-01042019-L1.9\",\n",
    "    \"cla-r-01042019-L2.9\",\n",
    "]\n",
    "# position = spike_filenames[0][010416b-LS3-50Hz10V5ms_1.txt\n",
    "spike_absolute_filenames = [prepend_data_dir(name) for name in spike_filenames]\n",
    "position_filenames = [\n",
    "    prepend_data_dir(\"cla-r-01042019-L1_9.txt\"),\n",
    "    prepend_data_dir(\"cla-r-01042019-L2_9.txt\")\n",
    "]\n",
    "units = [1, 1]"
   ]
  },
  {
   "cell_type": "code",
   "execution_count": null,
   "metadata": {},
   "outputs": [],
   "source": [
    "# Set up the data\n",
    "file_types = NDataContainer.EFileType\n",
    "collection = NDataContainer()\n",
    "collection.add_files(file_types.Spike, spike_absolute_filenames)\n",
    "collection.add_files(file_types.Position, position_filenames)\n",
    "collection.set_units(units)\n",
    "\n",
    "# Load the data\n",
    "collection.setup()\n",
    "print(collection)"
   ]
  },
  {
   "cell_type": "code",
   "execution_count": null,
   "metadata": {},
   "outputs": [],
   "source": [
    "collection.list_all_units()"
   ]
  },
  {
   "cell_type": "code",
   "execution_count": null,
   "metadata": {},
   "outputs": [],
   "source": [
    "merged = collection.merge([0, 1], force_equal_units=True)"
   ]
  },
  {
   "cell_type": "code",
   "execution_count": null,
   "metadata": {},
   "outputs": [],
   "source": [
    "place = merged.place()\n",
    "fig = nc_plot.loc_firing_and_place(place)"
   ]
  },
  {
   "cell_type": "code",
   "execution_count": null,
   "metadata": {},
   "outputs": [],
   "source": [
    "rate = merged.loc_time_lapse()\n",
    "fig = nc_plot.loc_spike_time_lapse(rate)\n",
    "fig = nc_plot.loc_rate_time_lapse(rate)"
   ]
  },
  {
   "cell_type": "code",
   "execution_count": null,
   "metadata": {},
   "outputs": [],
   "source": [
    "from neurochat.nc_utils import angle_between_points"
   ]
  },
  {
   "cell_type": "code",
   "execution_count": null,
   "metadata": {},
   "outputs": [],
   "source": [
    "centroids = []\n",
    "for data in collection:\n",
    "    place_data = data.place()\n",
    "    centroids.append(place_data['centroid'])\n",
    "    fig = nc_plot.loc_firing_and_place(place_data, smooth=False)\n",
    "\n",
    "print(centroids)\n",
    "print(angle_between_points(*centroids))\n",
    "fig = nc_plot.plot_angle_between_points(centroids,place_data['xedges'].max(), place_data['yedges'].max())\n",
    "print(angle_between_points(*centroids))"
   ]
  }
 ],
 "metadata": {
  "kernelspec": {
   "display_name": "Python 3",
   "language": "python",
   "name": "python3"
  },
  "language_info": {
   "codemirror_mode": {
    "name": "ipython",
    "version": 3
   },
   "file_extension": ".py",
   "mimetype": "text/x-python",
   "name": "python",
   "nbconvert_exporter": "python",
   "pygments_lexer": "ipython3",
   "version": "3.7.2"
  }
 },
 "nbformat": 4,
 "nbformat_minor": 2
}
